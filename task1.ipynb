{
  "nbformat": 4,
  "nbformat_minor": 0,
  "metadata": {
    "colab": {
      "provenance": [],
      "authorship_tag": "ABX9TyNkvgDr7WJcR2q8C9Fajt7D",
      "include_colab_link": true
    },
    "kernelspec": {
      "name": "python3",
      "display_name": "Python 3"
    },
    "language_info": {
      "name": "python"
    }
  },
  "cells": [
    {
      "cell_type": "markdown",
      "metadata": {
        "id": "view-in-github",
        "colab_type": "text"
      },
      "source": [
        "<a href=\"https://colab.research.google.com/github/vivek090909/Sithafal_Technogolies_Task-1/blob/main/task1.ipynb\" target=\"_parent\"><img src=\"https://colab.research.google.com/assets/colab-badge.svg\" alt=\"Open In Colab\"/></a>"
      ]
    },
    {
      "cell_type": "code",
      "source": [
        "!pip install --upgrade pymupdf # Install/upgrade PyMuPDF, which includes fitz and its dependencies.\n",
        "!pip install pdfplumber\n",
        "!mkdir static\n",
        "import fitz\n",
        "import pdfplumber\n",
        "import os\n",
        "\n",
        "def extract_text_and_tables(pdf_path, page_number):\n",
        "    with pdfplumber.open(pdf_path) as pdf:\n",
        "        if page_number < 0 or page_number >= len(pdf.pages):\n",
        "            return None, None\n",
        "        page = pdf.pages[page_number]\n",
        "        text = page.extract_text()\n",
        "        tables = page.extract_tables()\n",
        "        return text, tables\n",
        "\n",
        "def extract_images(pdf_path, page_number, image_output_dir):\n",
        "    if not os.path.exists(image_output_dir):\n",
        "        os.makedirs(image_output_dir)\n",
        "    images = []\n",
        "    with fitz.open(pdf_path) as pdf:\n",
        "        if page_number < 0 or page_number >= len(pdf):\n",
        "            return None\n",
        "        page = pdf[page_number]\n",
        "        image_list = page.get_images(full=True)\n",
        "        for img_index, img in enumerate(image_list):\n",
        "            xref = img[0]\n",
        "            base_image = pdf.extract_image(xref)\n",
        "            image_bytes = base_image[\"image\"]\n",
        "            image_filename = os.path.join(image_output_dir, f\"page_{page_number+1}_img{img_index + 1}.png\")\n",
        "            with open(image_filename, \"wb\") as img_file:\n",
        "                img_file.write(image_bytes)\n",
        "            images.append(image_filename)\n",
        "    return images\n",
        "\n",
        "def handle_query(user_query, pdf_path, image_output_dir):\n",
        "    response = \"\"\n",
        "    page_numbers = []\n",
        "    try:\n",
        "        for part in user_query.split(\"page\")[1:]:\n",
        "            page_number = int(part.split()[0]) - 1\n",
        "            page_numbers.append(page_number)\n",
        "    except (IndexError, ValueError):\n",
        "        return \"Invalid query format. Please specify valid page numbers.\"\n",
        "    for page_number in page_numbers:\n",
        "        page_text, tables = extract_text_and_tables(pdf_path, page_number)\n",
        "        if page_text is None:\n",
        "            response += f\"The specified page {page_number + 1} does not exist in the PDF.\\n\"\n",
        "            continue\n",
        "        response += f\"Data from page {page_number+ 1}:\\n\"\n",
        "        response += f\"Text:\\n{page_text}\\n\"\n",
        "        if tables:\n",
        "            response += \"Tables found on this page:\\n\"\n",
        "            for i, table in enumerate(tables):\n",
        "                response += f\"\\nTable {i + 1}:\\n\"\n",
        "                for row in table:\n",
        "                    response += \" | \".join(str(cell) for cell in row) + \"\\n\"\n",
        "        else:\n",
        "            response += \"No tables found on this page.\\n\"\n",
        "        images = extract_images(pdf_path, page_number, image_output_dir)\n",
        "        if images:\n",
        "            response += \"Images extracted from this page:\\n\"\n",
        "            for img in images:\n",
        "                response += f\" {img}\\n\"\n",
        "        else:\n",
        "            response += \"No images found on this page.\\n\"\n",
        "    return response\n",
        "\n",
        "\n",
        "if __name__ == \"__main__\":  # Corrected the variable name to __name__\n",
        "    pdf_path = \"/content/sithafal/sithafal file.pdf\"\n",
        "    image_output_dir = \"/content/output\"\n",
        "    user_query = input(\"Enter your query: \")\n",
        "    response = handle_query(user_query, pdf_path, image_output_dir)\n",
        "    print(response)"
      ],
      "metadata": {
        "colab": {
          "base_uri": "https://localhost:8080/"
        },
        "id": "1bcH87Tf2S6f",
        "outputId": "21321c47-7cfb-4480-beb4-6ed26220d0f7"
      },
      "execution_count": null,
      "outputs": [
        {
          "output_type": "stream",
          "name": "stdout",
          "text": [
            "Requirement already satisfied: pymupdf in /usr/local/lib/python3.10/dist-packages (1.25.1)\n",
            "Requirement already satisfied: pdfplumber in /usr/local/lib/python3.10/dist-packages (0.11.4)\n",
            "Requirement already satisfied: pdfminer.six==20231228 in /usr/local/lib/python3.10/dist-packages (from pdfplumber) (20231228)\n",
            "Requirement already satisfied: Pillow>=9.1 in /usr/local/lib/python3.10/dist-packages (from pdfplumber) (11.0.0)\n",
            "Requirement already satisfied: pypdfium2>=4.18.0 in /usr/local/lib/python3.10/dist-packages (from pdfplumber) (4.30.1)\n",
            "Requirement already satisfied: charset-normalizer>=2.0.0 in /usr/local/lib/python3.10/dist-packages (from pdfminer.six==20231228->pdfplumber) (3.4.0)\n",
            "Requirement already satisfied: cryptography>=36.0.0 in /usr/local/lib/python3.10/dist-packages (from pdfminer.six==20231228->pdfplumber) (43.0.3)\n",
            "Requirement already satisfied: cffi>=1.12 in /usr/local/lib/python3.10/dist-packages (from cryptography>=36.0.0->pdfminer.six==20231228->pdfplumber) (1.17.1)\n",
            "Requirement already satisfied: pycparser in /usr/local/lib/python3.10/dist-packages (from cffi>=1.12->cryptography>=36.0.0->pdfminer.six==20231228->pdfplumber) (2.22)\n",
            "mkdir: cannot create directory ‘static’: File exists\n",
            "Enter your query: page 6\n",
            "Data from page 6:\n",
            "Text:\n",
            "Table of Yearly U.S. GDP by\n",
            "Industry (in millions of dollars)\n",
            "Source: U.S. Bureau of Labor Statistics\n",
            "Year 2010 2011 2012 2013 2014 2015\n",
            "All Industries 26093515 27535971 28663246 29601191 30895407 31397023\n",
            "Manufacturing 4992521 5581942 5841608 5953299 6047477 5829554\n",
            "Finance,\n",
            "Insurance, Real\n",
            "4522451 4618678 4797313 5031881 5339678 5597018\n",
            "Estate, Rental,\n",
            "Leasing\n",
            "Arts,\n",
            "Entertainment,\n",
            "Recreation, 964032 1015238 1076249 1120496 1189646 1283813\n",
            "Accommodation,\n",
            "and Food Service\n",
            "Other 15614511 16320113 16948076 17495515 18318606 18686638\n",
            "Tables found on this page:\n",
            "\n",
            "Table 1:\n",
            "Year | 2010 | 2011 | 2012 | 2013 | 2014 | 2015\n",
            "All Industries | 26093515 | 27535971 | 28663246 | 29601191 | 30895407 | 31397023\n",
            "Manufacturing | 4992521 | 5581942 | 5841608 | 5953299 | 6047477 | 5829554\n",
            "Finance,\n",
            "Insurance, Real\n",
            "Estate, Rental,\n",
            "Leasing | 4522451 | 4618678 | 4797313 | 5031881 | 5339678 | 5597018\n",
            "Arts,\n",
            "Entertainment,\n",
            "Recreation,\n",
            "Accommodation,\n",
            "and Food Service | 964032 | 1015238 | 1076249 | 1120496 | 1189646 | 1283813\n",
            "Other | 15614511 | 16320113 | 16948076 | 17495515 | 18318606 | 18686638\n",
            "No images found on this page.\n",
            "\n"
          ]
        }
      ]
    },
    {
      "cell_type": "code",
      "source": [
        "from google.colab import drive\n",
        "drive.mount('/content/drive')"
      ],
      "metadata": {
        "id": "8x0LqT2N2KDN"
      },
      "execution_count": null,
      "outputs": []
    },
    {
      "cell_type": "code",
      "source": [
        "!pip install --upgrade pymupdf"
      ],
      "metadata": {
        "colab": {
          "base_uri": "https://localhost:8080/"
        },
        "id": "il3IyT_xRYcD",
        "outputId": "3c3af2ff-e571-4d95-bf51-65ba3f558f3b"
      },
      "execution_count": null,
      "outputs": [
        {
          "output_type": "stream",
          "name": "stdout",
          "text": [
            "Requirement already satisfied: pymupdf in /usr/local/lib/python3.10/dist-packages (1.25.1)\n"
          ]
        }
      ]
    }
  ]
}